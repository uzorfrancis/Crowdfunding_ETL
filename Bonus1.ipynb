{
 "cells": [
  {
   "cell_type": "code",
   "execution_count": 1,
   "id": "3a002137",
   "metadata": {},
   "outputs": [],
   "source": [
    "import sqlalchemy\n",
    "from sqlalchemy import create_engine, inspect, text\n",
    "import pandas as pd\n",
    "import numpy as np\n",
    "import seaborn as sns\n",
    "import matplotlib.pyplot as plt"
   ]
  },
  {
   "cell_type": "code",
   "execution_count": 2,
   "id": "418bbf37",
   "metadata": {},
   "outputs": [],
   "source": [
    "SQL_USERNAME = \"postgres\"\n",
    "SQL_PASSWORD = \"postgres\"\n",
    "SQL_IP = \"localhost\"\n",
    "PORT = \"5432\"\n",
    "DATABASE = \"crowdfunding_db\""
   ]
  },
  {
   "cell_type": "code",
   "execution_count": 3,
   "id": "742ea80f",
   "metadata": {},
   "outputs": [],
   "source": [
    "# create engine\n",
    "connection_string = f\"postgresql+psycopg2://{SQL_USERNAME}:{SQL_PASSWORD}@{SQL_IP}:{PORT}/{DATABASE}\"\n",
    "        \n",
    "        \n",
    "engine = create_engine(connection_string)"
   ]
  },
  {
   "cell_type": "code",
   "execution_count": 4,
   "id": "6ae536a4",
   "metadata": {},
   "outputs": [
    {
     "name": "stdout",
     "output_type": "stream",
     "text": [
      "contacts\n",
      "contact_id INTEGER\n",
      "first_name VARCHAR(100)\n",
      "last_name VARCHAR(100)\n",
      "email VARCHAR(100)\n",
      "last_updated TIMESTAMP\n",
      "\n",
      "campaign\n",
      "cf_id INTEGER\n",
      "contact_id INTEGER\n",
      "company_name VARCHAR(255)\n",
      "description VARCHAR\n",
      "goal DOUBLE_PRECISION\n",
      "pledged DOUBLE_PRECISION\n",
      "outcome VARCHAR(20)\n",
      "backers_count INTEGER\n",
      "country VARCHAR(5)\n",
      "currency VARCHAR(5)\n",
      "launch_date DATE\n",
      "end_date DATE\n",
      "category_id VARCHAR(10)\n",
      "subcategory_id VARCHAR(20)\n",
      "last_updated TIMESTAMP\n",
      "\n",
      "category\n",
      "category_id VARCHAR(10)\n",
      "category VARCHAR(50)\n",
      "last_updated TIMESTAMP\n",
      "\n",
      "subcategory\n",
      "subcategory_id VARCHAR(20)\n",
      "subcategory VARCHAR(50)\n",
      "last_updated TIMESTAMP\n",
      "\n"
     ]
    }
   ],
   "source": [
    "# explore and understand the data\n",
    "\n",
    "# Create the inspector and connect it to the engine\n",
    "inspector = inspect(engine)\n",
    "\n",
    "# Collect the names of tables within the database\n",
    "tables = inspector.get_table_names()\n",
    "\n",
    "# Using the inspector to print the column names within each table and its types\n",
    "for table in tables:\n",
    "    print(table)\n",
    "    columns = inspector.get_columns(table)\n",
    "    for column in columns:\n",
    "        print(column[\"name\"], column[\"type\"])\n",
    "        \n",
    "    print()"
   ]
  },
  {
   "cell_type": "code",
   "execution_count": 5,
   "id": "d9277f3b",
   "metadata": {},
   "outputs": [
    {
     "name": "stdout",
     "output_type": "stream",
     "text": [
      "(1000, 4)\n"
     ]
    },
    {
     "data": {
      "text/plain": [
       "1000"
      ]
     },
     "execution_count": 5,
     "metadata": {},
     "output_type": "execute_result"
    }
   ],
   "source": [
    "# load data (change age to name of csv, and repeat this cell for each csv)\n",
    "filepath = \"Resources/contacts.csv\"\n",
    "df = pd.read_csv(filepath)\n",
    "df.columns = [x.lower() for x in df.columns]\n",
    "print(df.shape)\n",
    "\n",
    "# write to sql (change age to name of csv, and repeat this cell for each csv)\n",
    "df.to_sql(\"contacts\", schema=\"public\", con=engine, if_exists=\"append\", method=\"multi\", index=False)\n",
    "# upload campaign table last because it has foreign keys"
   ]
  },
  {
   "cell_type": "code",
   "execution_count": 6,
   "id": "5efafa75",
   "metadata": {},
   "outputs": [
    {
     "name": "stdout",
     "output_type": "stream",
     "text": [
      "(9, 2)\n"
     ]
    },
    {
     "data": {
      "text/plain": [
       "9"
      ]
     },
     "execution_count": 6,
     "metadata": {},
     "output_type": "execute_result"
    }
   ],
   "source": [
    "# load data (change age to name of csv, and repeat this cell for each csv)\n",
    "filepath = \"Resources/category.csv\"\n",
    "df = pd.read_csv(filepath)\n",
    "df.columns = [x.lower() for x in df.columns]\n",
    "print(df.shape)\n",
    "\n",
    "# write to sql (change age to name of csv, and repeat this cell for each csv)\n",
    "df.to_sql(\"category\", schema=\"public\", con=engine, if_exists=\"append\", method=\"multi\", index=False)\n",
    "# upload campaign table last because it has foreign keys"
   ]
  },
  {
   "cell_type": "code",
   "execution_count": 7,
   "id": "f1967eb3",
   "metadata": {},
   "outputs": [
    {
     "name": "stdout",
     "output_type": "stream",
     "text": [
      "(24, 2)\n"
     ]
    },
    {
     "data": {
      "text/plain": [
       "24"
      ]
     },
     "execution_count": 7,
     "metadata": {},
     "output_type": "execute_result"
    }
   ],
   "source": [
    "# load data (change age to name of csv, and repeat this cell for each csv)\n",
    "filepath = \"Resources/subcategory.csv\"\n",
    "df = pd.read_csv(filepath)\n",
    "df.columns = [x.lower() for x in df.columns]\n",
    "print(df.shape)\n",
    "\n",
    "# write to sql (change age to name of csv, and repeat this cell for each csv)\n",
    "df.to_sql(\"subcategory\", schema=\"public\", con=engine, if_exists=\"append\", method=\"multi\", index=False)\n",
    "# upload campaign table last because it has foreign keys"
   ]
  },
  {
   "cell_type": "code",
   "execution_count": 8,
   "id": "6ce28804",
   "metadata": {},
   "outputs": [
    {
     "name": "stdout",
     "output_type": "stream",
     "text": [
      "(1000, 14)\n"
     ]
    },
    {
     "data": {
      "text/plain": [
       "1000"
      ]
     },
     "execution_count": 8,
     "metadata": {},
     "output_type": "execute_result"
    }
   ],
   "source": [
    "# load data (change age to name of csv, and repeat this cell for each csv)\n",
    "filepath = \"Resources/campaign.csv\"\n",
    "df = pd.read_csv(filepath)\n",
    "df.columns = [x.lower() for x in df.columns]\n",
    "print(df.shape)\n",
    "\n",
    "# write to sql (change age to name of csv, and repeat this cell for each csv)\n",
    "df.to_sql(\"campaign\", schema=\"public\", con=engine, if_exists=\"append\", method=\"multi\", index=False)\n",
    "# upload campaign table last because it has foreign keys"
   ]
  },
  {
   "cell_type": "code",
   "execution_count": null,
   "id": "3de81788",
   "metadata": {},
   "outputs": [],
   "source": []
  }
 ],
 "metadata": {
  "kernelspec": {
   "display_name": "Python 3.10.13 ('dev')",
   "language": "python",
   "name": "python31013jvsc74a57bd0d50267b3cbcbcf97d5197acd27192d488dbfe1d7d678a75e6237f765a35cc0a7"
  },
  "language_info": {
   "codemirror_mode": {
    "name": "ipython",
    "version": 3
   },
   "file_extension": ".py",
   "mimetype": "text/x-python",
   "name": "python",
   "nbconvert_exporter": "python",
   "pygments_lexer": "ipython3",
   "version": "3.10.13"
  }
 },
 "nbformat": 4,
 "nbformat_minor": 5
}
